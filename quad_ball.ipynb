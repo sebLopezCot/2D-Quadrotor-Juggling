{
 "cells": [
  {
   "cell_type": "markdown",
   "metadata": {},
   "source": [
    "# Quadrotor Direct Transcription\n",
    "by Sebastian Lopez-Cot\n",
    "\n",
    "This python notebook can be used to run the quad-ball system. The quadrotor will try to send a ball to a desired location given initial conditions and will attempt to return to its original starting point."
   ]
  },
  {
   "cell_type": "code",
   "execution_count": 20,
   "metadata": {
    "scrolled": true
   },
   "outputs": [
    {
     "name": "stdout",
     "output_type": "stream",
     "text": [
      "Should end at:  [-3.9  3.7]\n",
      "Number of decision vars:  160\n",
      "Solve:  SolutionResult.kSolutionFound\n"
     ]
    },
    {
     "data": {
      "image/png": "[encoded data removed]",
      "text/plain": [
       "<matplotlib.figure.Figure at 0x7f0b38ece790>"
      ]
     },
     "metadata": {},
     "output_type": "display_data"
    },
    {
     "data": {
      "image/png": "[encoded data removed]",
      "text/plain": [
       "<matplotlib.figure.Figure at 0x7f0b38e69610>"
      ]
     },
     "metadata": {},
     "output_type": "display_data"
    },
    {
     "data": {
      "image/png": "[encoded data removed]",
      "text/plain": [
       "<matplotlib.figure.Figure at 0x7f0b38aa7b50>"
      ]
     },
     "metadata": {},
     "output_type": "display_data"
    },
    {
     "name": "stdout",
     "output_type": "stream",
     "text": [
      "[[ 1.35779112  1.08142385]\n",
      " [ 0.          0.39316918]\n",
      " [ 0.34154396 -0.26063352]\n",
      " [ 2.19625483 -0.68776035]\n",
      " [ 1.36756345 -0.82135968]\n",
      " [ 2.12527648 -0.72599954]\n",
      " [ 0.22718432 -0.4926017 ]\n",
      " [ 0.62493789 -0.22927792]\n",
      " [ 0.76004331  0.06670537]\n",
      " [ 0.70603276  0.37817533]\n",
      " [ 0.49618771  0.68678021]\n",
      " [ 0.          0.99014146]\n",
      " [ 2.70576383  1.18860236]\n",
      " [ 3.          1.12494962]\n",
      " [ 3.          0.7060234 ]\n",
      " [ 0.          0.08903054]\n",
      " [ 0.         -0.52796316]\n",
      " [ 0.         -1.14495764]\n",
      " [ 0.         -1.76194781]\n",
      " [ 0.          0.        ]]\n"
     ]
    }
   ],
   "source": [
    "%reload_ext autoreload\n",
    "%autoreload 2\n",
    "\n",
    "import time\n",
    "import matplotlib.pyplot as plt\n",
    "import matplotlib.animation as animation\n",
    "import numpy as np\n",
    "import scipy as sp\n",
    "\n",
    "from pydrake.all import MathematicalProgram\n",
    "from pydrake.symbolic import (sin,cos,tanh)\n",
    "\n",
    "from quad_ball_system import (QuadDirectTranscription, Quadrotor)\n",
    "from IPython.display import HTML\n",
    "\n",
    "# Define the min and max time for the problem\n",
    "time_used = 4.0\n",
    "\n",
    "# Quad initial conditions\n",
    "initial_quad_state = np.zeros(6)\n",
    "initial_quad_state[0] = 0.0\n",
    "initial_quad_state[1] = 0.0\n",
    "initial_quad_state[2] = 0.0\n",
    "initial_quad_state[3] = 0.0\n",
    "initial_quad_state[4] = 0.0\n",
    "initial_quad_state[5] = 0.0\n",
    "\n",
    "final_quad_state = np.zeros(6)\n",
    "final_quad_state[0] = np.random.choice(np.arange(-4.0, 4.0, 0.1))\n",
    "final_quad_state[1] = np.random.choice(np.arange(1.0, 5.0, 0.1))\n",
    "final_quad_state[2] = np.random.choice(np.arange(-np.pi/6.0, np.pi/6.0, 0.1))\n",
    "final_quad_state[3] = 0.0\n",
    "final_quad_state[4] = 0.0\n",
    "final_quad_state[5] = 0.0\n",
    "\n",
    "print \"Should end at: \", final_quad_state[0:2]\n",
    "\n",
    "# System params\n",
    "quad_mass = 0.1\n",
    "ball_mass = 0.01\n",
    "g = -9.81\n",
    "beta = 1.0\n",
    "\n",
    "# Run the solver\n",
    "qdt = QuadDirectTranscription(quad_mass, g)\n",
    "quad_traj, input_traj, time_array = qdt.solve(initial_quad_state, final_quad_state, time_used)\n",
    "\n",
    "# Visualize the results\n",
    "plt.figure()\n",
    "plt.title(\"Quad trajectory\")\n",
    "plt.xlabel(\"x\")\n",
    "plt.ylabel(\"y\")\n",
    "plt.xlim(-5,5)\n",
    "plt.ylim(-10,10)\n",
    "plt.plot(quad_traj[:,0], quad_traj[:,1])\n",
    "plt.show()\n",
    "\n",
    "plt.figure()\n",
    "plt.title(\"Quad y position\")\n",
    "plt.xlim(-20,10)\n",
    "plt.xlabel(\"t\")\n",
    "plt.ylabel(\"y\")\n",
    "plt.plot(time_array[0:20], quad_traj[:,1])\n",
    "plt.show()\n",
    "\n",
    "plt.figure()\n",
    "plt.title(\"Quad y velocity\")\n",
    "plt.xlim(-20,10)\n",
    "plt.xlabel(\"t\")\n",
    "plt.ylabel(\"y\")\n",
    "plt.plot(time_array[0:20], quad_traj[:,4])\n",
    "plt.show()\n",
    "\n",
    "print input_traj\n"
   ]
  }
 ],
 "metadata": {
  "kernelspec": {
   "display_name": "Python 2",
   "language": "python",
   "name": "python2"
  },
  "language_info": {
   "codemirror_mode": {
    "name": "ipython",
    "version": 2
   },
   "file_extension": ".py",
   "mimetype": "text/x-python",
   "name": "python",
   "nbconvert_exporter": "python",
   "pygments_lexer": "ipython2",
   "version": "2.7.12"
  }
 },
 "nbformat": 4,
 "nbformat_minor": 2
}

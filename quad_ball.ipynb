{
 "cells": [
  {
   "cell_type": "markdown",
   "metadata": {},
   "source": [
    "# Quadrotor Ball System\n",
    "by Sebastian Lopez-Cot\n",
    "\n",
    "This python notebook can be used to run the quad-ball system. The quadrotor will try to send a ball to a desired location given initial conditions and will attempt to return to its original starting point."
   ]
  },
  {
   "cell_type": "code",
   "execution_count": 34,
   "metadata": {
    "scrolled": true
   },
   "outputs": [
    {
     "name": "stdout",
     "output_type": "stream",
     "text": [
      "Number of decision vars:  600\n",
      "Solve:  SolutionResult.kInfeasibleConstraints\n"
     ]
    },
    {
     "data": {
      "image/png": "[encoded data removed]",
      "text/plain": [
       "<matplotlib.figure.Figure at 0x7fbe6dc81590>"
      ]
     },
     "metadata": {},
     "output_type": "display_data"
    },
    {
     "data": {
      "image/png": "[encoded data removed]",
      "text/plain": [
       "<matplotlib.figure.Figure at 0x7fbe6dfd3890>"
      ]
     },
     "metadata": {},
     "output_type": "display_data"
    },
    {
     "name": "stdout",
     "output_type": "stream",
     "text": [
      "[[-0.          0.        ]\n",
      " [-0.          0.        ]\n",
      " [-0.          0.        ]\n",
      " [-0.          0.        ]\n",
      " [-0.          0.        ]\n",
      " [-0.          0.        ]\n",
      " [-0.          0.        ]\n",
      " [-0.          0.        ]\n",
      " [-0.          0.        ]\n",
      " [-0.          0.        ]\n",
      " [-0.          0.        ]\n",
      " [-0.          0.        ]\n",
      " [-0.          0.        ]\n",
      " [-0.          0.        ]\n",
      " [-0.          0.        ]\n",
      " [-0.          0.        ]\n",
      " [-0.          0.        ]\n",
      " [-0.          0.        ]\n",
      " [-0.          0.        ]\n",
      " [-0.          0.        ]\n",
      " [-0.          0.        ]\n",
      " [-0.          0.        ]\n",
      " [-0.          0.        ]\n",
      " [-0.          0.        ]\n",
      " [-0.          0.        ]\n",
      " [-0.          0.        ]\n",
      " [-0.          0.        ]\n",
      " [-0.          0.        ]\n",
      " [-0.          0.        ]\n",
      " [-0.          0.        ]\n",
      " [-0.          0.        ]\n",
      " [-0.          0.        ]\n",
      " [-0.          0.        ]\n",
      " [ 0.24994354  0.        ]\n",
      " [-0.          0.        ]\n",
      " [-0.          0.        ]\n",
      " [-0.          0.        ]\n",
      " [-0.          0.        ]\n",
      " [-0.          0.        ]\n",
      " [-0.          0.        ]\n",
      " [-0.          0.        ]\n",
      " [-0.          0.        ]\n",
      " [-0.          0.        ]\n",
      " [-0.          0.        ]\n",
      " [-0.          0.        ]\n",
      " [-0.          0.        ]\n",
      " [-0.          0.        ]\n",
      " [-0.          0.        ]\n",
      " [-0.          0.        ]\n",
      " [-0.          0.        ]]\n"
     ]
    }
   ],
   "source": [
    "%reload_ext autoreload\n",
    "%autoreload 2\n",
    "\n",
    "import time\n",
    "import matplotlib.pyplot as plt\n",
    "import matplotlib.animation as animation\n",
    "import numpy as np\n",
    "import scipy as sp\n",
    "\n",
    "from pydrake.all import MathematicalProgram\n",
    "from pydrake.symbolic import (sin,cos,tanh)\n",
    "\n",
    "from quad_ball_system import (BallQuadSystem, SystemVisualizer)\n",
    "\n",
    "# Define the min and max time for the problem\n",
    "min_time = 1.0\n",
    "max_time = 3.0\n",
    "\n",
    "# Quad initial conditions\n",
    "initial_quad_state = np.zeros(6)\n",
    "initial_quad_state[0] = 0.0\n",
    "initial_quad_state[1] = 0.0\n",
    "initial_quad_state[2] = 0.0\n",
    "initial_quad_state[3] = 0.0\n",
    "initial_quad_state[4] = 0.0\n",
    "initial_quad_state[5] = 0.0\n",
    "\n",
    "final_quad_state = np.zeros(6)\n",
    "final_quad_state[0] = 0.0\n",
    "final_quad_state[1] = 4.0\n",
    "final_quad_state[2] = 0.0\n",
    "final_quad_state[3] = 0.0\n",
    "final_quad_state[4] = 0.0\n",
    "final_quad_state[5] = 0.0\n",
    "\n",
    "# Ball initial conditions (launched)\n",
    "vlaunch = 11.5\n",
    "theta = 60.0 * np.pi / 180.0\n",
    "\n",
    "initial_ball_state = np.zeros(4)\n",
    "initial_ball_state[0] = -2.0*(vlaunch)**2 * np.sin(theta) * np.cos(theta) / 9.81\n",
    "initial_ball_state[1] = 0.0\n",
    "initial_ball_state[2] = vlaunch * np.cos(theta)\n",
    "initial_ball_state[3] = vlaunch * np.sin(theta)\n",
    "\n",
    "# Ball final state conditions\n",
    "final_ball_state = np.copy(initial_ball_state)\n",
    "final_ball_state[2:4] *= -1.0\n",
    "\n",
    "# System params\n",
    "quad_mass = 0.1\n",
    "g = -9.81\n",
    "beta = 1.0\n",
    "\n",
    "# Run the solver\n",
    "bqs = BallQuadSystem(quad_mass, g, beta)\n",
    "quad_traj, ball_traj, input_traj = bqs.solve(initial_quad_state, final_quad_state, initial_ball_state, final_ball_state, min_time, max_time)\n",
    "\n",
    "# Visualize the results\n",
    "plt.figure()\n",
    "plt.title(\"Quad trajectory\")\n",
    "plt.xlabel(\"x\")\n",
    "plt.ylabel(\"y\")\n",
    "plt.xlim(-3,3)\n",
    "plt.plot(quad_traj[:,0], quad_traj[:,1])\n",
    "plt.show()\n",
    "\n",
    "plt.figure()\n",
    "plt.title(\"Ball trajectory\")\n",
    "plt.xlabel(\"x\")\n",
    "plt.ylabel(\"y\")\n",
    "plt.scatter(ball_traj[:,0], ball_traj[:,1])\n",
    "plt.show()\n",
    "\n",
    "print input_traj[:,0:2]"
   ]
  }
 ],
 "metadata": {
  "kernelspec": {
   "display_name": "Python 2",
   "language": "python",
   "name": "python2"
  },
  "language_info": {
   "codemirror_mode": {
    "name": "ipython",
    "version": 2
   },
   "file_extension": ".py",
   "mimetype": "text/x-python",
   "name": "python",
   "nbconvert_exporter": "python",
   "pygments_lexer": "ipython2",
   "version": "2.7.12"
  }
 },
 "nbformat": 4,
 "nbformat_minor": 2
}

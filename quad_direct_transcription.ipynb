{
 "cells": [
  {
   "cell_type": "markdown",
   "metadata": {},
   "source": [
    "# Quadrotor Direct Transcription\n",
    "by Sebastian Lopez-Cot\n",
    "\n",
    "This python notebook can be used to run the quad-ball system. The quadrotor will try to send a ball to a desired location given initial conditions and will attempt to return to its original starting point."
   ]
  },
  {
   "cell_type": "code",
   "execution_count": 6,
   "metadata": {
    "scrolled": true
   },
   "outputs": [
    {
     "name": "stdout",
     "output_type": "stream",
     "text": [
      "Should end at:  [ 0.  0.]\n",
      "Number of decision vars:  320\n",
      "Solve:  SolutionResult.kSolutionFound\n"
     ]
    },
    {
     "data": {
      "image/png": "[encoded data removed]",
      "text/plain": [
       "<matplotlib.figure.Figure at 0x7feb28763050>"
      ]
     },
     "metadata": {},
     "output_type": "display_data"
    },
    {
     "data": {
      "image/png": "[encoded data removed]",
      "text/plain": [
       "<matplotlib.figure.Figure at 0x7feb27ec96d0>"
      ]
     },
     "metadata": {},
     "output_type": "display_data"
    },
    {
     "data": {
      "image/png": "[encoded data removed]",
      "text/plain": [
       "<matplotlib.figure.Figure at 0x7feb27dfb490>"
      ]
     },
     "metadata": {},
     "output_type": "display_data"
    },
    {
     "name": "stdout",
     "output_type": "stream",
     "text": [
      "[[ 0.          0.          0.        ]\n",
      " [-0.01        0.00319935  0.01063588]\n",
      " [-0.02144059 -0.00239676  0.02317176]\n",
      " [-0.03542539 -0.00905461  0.03698554]\n",
      " [-0.05338671 -0.00921565  0.04964751]\n",
      " [-0.07687592  0.00293359  0.06081688]\n",
      " [-0.10730806  0.0145918   0.07027966]\n",
      " [-0.14586642  0.03869719  0.07793398]\n",
      " [-0.19347141  0.07913142  0.06377319]\n",
      " [-0.24934728  0.12932746  0.04786677]\n",
      " [-0.31136649  0.17902982  0.03033952]\n",
      " [-0.37772826  0.22185658  0.01135324]\n",
      " [-0.44678599  0.25425235 -0.00890753]\n",
      " [-0.51691942  0.29488639 -0.03024704]\n",
      " [-0.58448037  0.3242977  -0.05051728]\n",
      " [-0.64770643  0.3441893  -0.06952951]\n",
      " [-0.70483972  0.35665534 -0.08711119]\n",
      " [-0.75414579  0.3638937  -0.10311338]\n",
      " [-0.79391625  0.36834464 -0.11741731]\n",
      " [-0.82244226  0.37303251 -0.12993981]\n",
      " [-0.83797918  0.38184652 -0.12169021]\n",
      " [-0.82024582  0.37541392 -0.11056336]\n",
      " [-0.79055347  0.37066305 -0.09765353]\n",
      " [-0.75032923  0.36489705 -0.08304187]\n",
      " [-0.70103682  0.35597845 -0.06684481]\n",
      " [-0.64419913  0.34205747 -0.04920877]\n",
      " [-0.58140655  0.32130342 -0.0303038 ]\n",
      " [-0.51430038  0.29183696 -0.01031628]\n",
      " [-0.44454461  0.25204508  0.00860821]\n",
      " [-0.37569544  0.22131544  0.02627656]\n",
      " [-0.30926835  0.18063321  0.04250699]\n",
      " [-0.2467639   0.13276856  0.05714067]\n",
      " [-0.18975494  0.08268505  0.07005534]\n",
      " [-0.1400096   0.03843557  0.07687726]\n",
      " [-0.09924791  0.01034308  0.06622305]\n",
      " [-0.06757392  0.00297102  0.05389167]\n",
      " [-0.04352305 -0.00644972  0.0401027 ]\n",
      " [-0.02540281 -0.00344453  0.02520414]\n",
      " [-0.01142302  0.00275639  0.01163051]\n",
      " [ 0.          0.          0.        ]]\n"
     ]
    }
   ],
   "source": [
    "%reload_ext autoreload\n",
    "%autoreload 2\n",
    "\n",
    "import time\n",
    "import matplotlib.pyplot as plt\n",
    "import matplotlib.animation as animation\n",
    "import numpy as np\n",
    "import scipy as sp\n",
    "\n",
    "from pydrake.all import MathematicalProgram\n",
    "from pydrake.symbolic import (sin,cos,tanh)\n",
    "\n",
    "from quad_direct_transcription import (QuadDirectTranscription)\n",
    "from IPython.display import HTML\n",
    "\n",
    "# Define the min and max time for the problem\n",
    "time_used = 4.0\n",
    "\n",
    "# Quad initial conditions\n",
    "initial_quad_state = np.zeros(6)\n",
    "initial_quad_state[0] = 0.0\n",
    "initial_quad_state[1] = 0.0\n",
    "initial_quad_state[2] = 0.0\n",
    "initial_quad_state[3] = 0.0\n",
    "initial_quad_state[4] = 0.0\n",
    "initial_quad_state[5] = 0.0\n",
    "\n",
    "final_quad_state = np.zeros(6)\n",
    "final_quad_state[0] = 0.0 #np.random.choice(np.arange(-4.0, 4.0, 0.1))\n",
    "final_quad_state[1] = 0.0 #np.random.choice(np.arange(1.0, 5.0, 0.1))\n",
    "final_quad_state[2] = 0.0 #np.random.choice(np.arange(-np.pi/6.0, np.pi/6.0, 0.1))\n",
    "final_quad_state[3] = 0.0\n",
    "final_quad_state[4] = 0.0\n",
    "final_quad_state[5] = 0.0\n",
    "\n",
    "print \"Should end at: \", final_quad_state[0:2]\n",
    "\n",
    "# System params\n",
    "quad_mass = 0.1\n",
    "ball_mass = 0.01\n",
    "g = -9.81\n",
    "beta = 1.0\n",
    "\n",
    "# Run the solver\n",
    "qdt = QuadDirectTranscription(quad_mass, g)\n",
    "quad_traj, input_traj, time_array = qdt.solve(initial_quad_state, final_quad_state, time_used)\n",
    "\n",
    "# Visualize the results\n",
    "plt.figure()\n",
    "plt.title(\"Quad trajectory\")\n",
    "plt.xlabel(\"x\")\n",
    "plt.ylabel(\"y\")\n",
    "plt.xlim(-5,5)\n",
    "plt.ylim(-10,10)\n",
    "plt.plot(quad_traj[:,0], quad_traj[:,1])\n",
    "plt.show()\n",
    "\n",
    "plt.figure()\n",
    "plt.title(\"Quad y position\")\n",
    "plt.xlim(-20,10)\n",
    "plt.xlabel(\"t\")\n",
    "plt.ylabel(\"y\")\n",
    "plt.plot(time_array[0:40], quad_traj[:,1])\n",
    "plt.show()\n",
    "\n",
    "plt.figure()\n",
    "plt.title(\"Quad y velocity\")\n",
    "plt.xlim(-20,10)\n",
    "plt.xlabel(\"t\")\n",
    "plt.ylabel(\"y\")\n",
    "plt.plot(time_array[0:40], quad_traj[:,4])\n",
    "plt.show()\n",
    "\n",
    "#print input_traj\n",
    "print quad_traj[:,0:3]\n"
   ]
  }
 ],
 "metadata": {
  "kernelspec": {
   "display_name": "Python 2",
   "language": "python",
   "name": "python2"
  },
  "language_info": {
   "codemirror_mode": {
    "name": "ipython",
    "version": 2
   },
   "file_extension": ".py",
   "mimetype": "text/x-python",
   "name": "python",
   "nbconvert_exporter": "python",
   "pygments_lexer": "ipython2",
   "version": "2.7.12"
  }
 },
 "nbformat": 4,
 "nbformat_minor": 2
}
